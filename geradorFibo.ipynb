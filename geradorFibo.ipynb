{
  "cells": [
    {
      "cell_type": "markdown",
      "metadata": {
        "id": "view-in-github",
        "colab_type": "text"
      },
      "source": [
        "<a href=\"https://colab.research.google.com/github/vinicius455/html/blob/main/geradorFibo.ipynb\" target=\"_parent\"><img src=\"https://colab.research.google.com/assets/colab-badge.svg\" alt=\"Open In Colab\"/></a>"
      ]
    },
    {
      "cell_type": "markdown",
      "source": [
        "Trabalho de programação: Eliel, Andre e Vinicius."
      ],
      "metadata": {
        "id": "TnYKtCiKVeKc"
      }
    },
    {
      "cell_type": "code",
      "source": [
        "def fibonacci(n):\n",
        "    a, b = 0, 1\n",
        "    count = 0\n",
        "\n",
        "    while True:\n",
        "        assert count < n, \"O contador deve ser menor que n.\"\n",
        "\n",
        "        yield a\n",
        "        count += 1\n",
        "\n",
        "        a, b = b, a + b\n",
        "\n",
        "        if a > 10:\n",
        "            break\n",
        "\n",
        "        if a % 2 == 0:\n",
        "            continue\n",
        "\n",
        "for num in fibonacci(10):\n",
        "    print(num)\n"
      ],
      "metadata": {
        "id": "8aC9QT4RVWk3"
      },
      "execution_count": null,
      "outputs": []
    }
  ],
  "metadata": {
    "colab": {
      "toc_visible": true,
      "provenance": [],
      "include_colab_link": true
    },
    "kernelspec": {
      "display_name": "Python 3",
      "name": "python3"
    }
  },
  "nbformat": 4,
  "nbformat_minor": 0
}